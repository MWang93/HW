{
  "cells": [
    {
      "cell_type": "markdown",
      "source": [
        "# ReadFile"
      ],
      "metadata": {}
    },
    {
      "cell_type": "code",
      "source": [
        "import pandas as pd"
      ],
      "outputs": [],
      "execution_count": 3,
      "metadata": {}
    },
    {
      "cell_type": "code",
      "source": [
        "movie = pd.read_csv('/Users/mwang/Downloads/movie.tsv',delimiter='\\t')"
      ],
      "outputs": [],
      "execution_count": 4,
      "metadata": {}
    },
    {
      "cell_type": "code",
      "source": [
        "movie.head()"
      ],
      "outputs": [
        {
          "output_type": "execute_result",
          "execution_count": 6,
          "data": {
            "text/plain": [
              "   user_id  movie_id  rating  timestamp gender  age  occupation    zip  \\\n",
              "0     2917      2355       2  971730180      M   25           0  60201   \n",
              "1     2917      2355       2  971730180      M   25           0  60201   \n",
              "2     2917      2355       2  971730180      M   25           0  60201   \n",
              "3     2924      2355       4  971592069      F   18           4  94121   \n",
              "4     2924      2355       4  971592069      F   18           4  94121   \n",
              "\n",
              "                  title      genres  \n",
              "0  Bug's Life, A (1998)   Animation  \n",
              "1  Bug's Life, A (1998)  Children's  \n",
              "2  Bug's Life, A (1998)      Comedy  \n",
              "3  Bug's Life, A (1998)   Animation  \n",
              "4  Bug's Life, A (1998)  Children's  "
            ],
            "text/html": [
              "<div>\n",
              "<style scoped>\n",
              "    .dataframe tbody tr th:only-of-type {\n",
              "        vertical-align: middle;\n",
              "    }\n",
              "\n",
              "    .dataframe tbody tr th {\n",
              "        vertical-align: top;\n",
              "    }\n",
              "\n",
              "    .dataframe thead th {\n",
              "        text-align: right;\n",
              "    }\n",
              "</style>\n",
              "<table border=\"1\" class=\"dataframe\">\n",
              "  <thead>\n",
              "    <tr style=\"text-align: right;\">\n",
              "      <th></th>\n",
              "      <th>user_id</th>\n",
              "      <th>movie_id</th>\n",
              "      <th>rating</th>\n",
              "      <th>timestamp</th>\n",
              "      <th>gender</th>\n",
              "      <th>age</th>\n",
              "      <th>occupation</th>\n",
              "      <th>zip</th>\n",
              "      <th>title</th>\n",
              "      <th>genres</th>\n",
              "    </tr>\n",
              "  </thead>\n",
              "  <tbody>\n",
              "    <tr>\n",
              "      <th>0</th>\n",
              "      <td>2917</td>\n",
              "      <td>2355</td>\n",
              "      <td>2</td>\n",
              "      <td>971730180</td>\n",
              "      <td>M</td>\n",
              "      <td>25</td>\n",
              "      <td>0</td>\n",
              "      <td>60201</td>\n",
              "      <td>Bug's Life, A (1998)</td>\n",
              "      <td>Animation</td>\n",
              "    </tr>\n",
              "    <tr>\n",
              "      <th>1</th>\n",
              "      <td>2917</td>\n",
              "      <td>2355</td>\n",
              "      <td>2</td>\n",
              "      <td>971730180</td>\n",
              "      <td>M</td>\n",
              "      <td>25</td>\n",
              "      <td>0</td>\n",
              "      <td>60201</td>\n",
              "      <td>Bug's Life, A (1998)</td>\n",
              "      <td>Children's</td>\n",
              "    </tr>\n",
              "    <tr>\n",
              "      <th>2</th>\n",
              "      <td>2917</td>\n",
              "      <td>2355</td>\n",
              "      <td>2</td>\n",
              "      <td>971730180</td>\n",
              "      <td>M</td>\n",
              "      <td>25</td>\n",
              "      <td>0</td>\n",
              "      <td>60201</td>\n",
              "      <td>Bug's Life, A (1998)</td>\n",
              "      <td>Comedy</td>\n",
              "    </tr>\n",
              "    <tr>\n",
              "      <th>3</th>\n",
              "      <td>2924</td>\n",
              "      <td>2355</td>\n",
              "      <td>4</td>\n",
              "      <td>971592069</td>\n",
              "      <td>F</td>\n",
              "      <td>18</td>\n",
              "      <td>4</td>\n",
              "      <td>94121</td>\n",
              "      <td>Bug's Life, A (1998)</td>\n",
              "      <td>Animation</td>\n",
              "    </tr>\n",
              "    <tr>\n",
              "      <th>4</th>\n",
              "      <td>2924</td>\n",
              "      <td>2355</td>\n",
              "      <td>4</td>\n",
              "      <td>971592069</td>\n",
              "      <td>F</td>\n",
              "      <td>18</td>\n",
              "      <td>4</td>\n",
              "      <td>94121</td>\n",
              "      <td>Bug's Life, A (1998)</td>\n",
              "      <td>Children's</td>\n",
              "    </tr>\n",
              "  </tbody>\n",
              "</table>\n",
              "</div>"
            ]
          },
          "metadata": {}
        }
      ],
      "execution_count": 6,
      "metadata": {}
    },
    {
      "cell_type": "code",
      "source": [
        "movie.info()"
      ],
      "outputs": [
        {
          "output_type": "stream",
          "name": "stdout",
          "text": [
            "<class 'pandas.core.frame.DataFrame'>\n",
            "RangeIndex: 2101845 entries, 0 to 2101844\n",
            "Data columns (total 10 columns):\n",
            "user_id       int64\n",
            "movie_id      int64\n",
            "rating        int64\n",
            "timestamp     int64\n",
            "gender        object\n",
            "age           int64\n",
            "occupation    int64\n",
            "zip           object\n",
            "title         object\n",
            "genres        object\n",
            "dtypes: int64(6), object(4)\n",
            "memory usage: 160.4+ MB\n"
          ]
        }
      ],
      "execution_count": 7,
      "metadata": {}
    },
    {
      "cell_type": "markdown",
      "source": [
        "# Basic Stat "
      ],
      "metadata": {}
    },
    {
      "cell_type": "code",
      "source": [
        "unique_movie = movie.movie_id.unique()\n",
        "unique_occupation = movie.occupation.unique()"
      ],
      "outputs": [],
      "execution_count": 9,
      "metadata": {}
    },
    {
      "cell_type": "code",
      "source": [
        "print(\"we have %s records, %s movies, %s occupation\" %(len(movie),len(unique_movie),len(unique_occupation)))"
      ],
      "outputs": [
        {
          "output_type": "stream",
          "name": "stdout",
          "text": [
            "we have 2101845 records, 3706 movies, 21 occupation\n"
          ]
        }
      ],
      "execution_count": 10,
      "metadata": {
        "scrolled": true
      }
    },
    {
      "cell_type": "markdown",
      "source": [
        "# 1. An aggregate of the movie ratings for each particular genre."
      ],
      "metadata": {}
    },
    {
      "cell_type": "code",
      "source": [
        "# suppose the aggreage = ratings means\n",
        "movie.groupby('genres')['rating'].mean()"
      ],
      "outputs": [
        {
          "output_type": "execute_result",
          "execution_count": 11,
          "data": {
            "text/plain": [
              "genres\n",
              "Action         3.491185\n",
              "Adventure      3.477257\n",
              "Animation      3.684895\n",
              "Children's     3.422087\n",
              "Comedy         3.522107\n",
              "Crime          3.708679\n",
              "Documentary    3.933123\n",
              "Drama          3.766332\n",
              "Fantasy        3.447371\n",
              "Film-Noir      4.075188\n",
              "Horror         3.215013\n",
              "Musical        3.665519\n",
              "Mystery        3.668102\n",
              "Romance        3.607465\n",
              "Sci-Fi         3.466521\n",
              "Thriller       3.570466\n",
              "War            3.893327\n",
              "Western        3.637770\n",
              "Name: rating, dtype: float64"
            ]
          },
          "metadata": {}
        }
      ],
      "execution_count": 11,
      "metadata": {}
    },
    {
      "cell_type": "markdown",
      "source": [
        "# 2. The top 5 highest ranked genre by occupation."
      ],
      "metadata": {}
    },
    {
      "cell_type": "code",
      "source": [
        "df = movie.groupby(['occupation','genres'])['rating'].mean().reset_index()"
      ],
      "outputs": [],
      "execution_count": 12,
      "metadata": {}
    },
    {
      "cell_type": "code",
      "source": [
        "df_sorted = df.sort_values(['occupation', 'rating'], ascending=[True, False])"
      ],
      "outputs": [],
      "execution_count": 13,
      "metadata": {
        "scrolled": true
      }
    },
    {
      "cell_type": "code",
      "source": [
        "genre_occupation = df_sorted.groupby('occupation').head(5)"
      ],
      "outputs": [],
      "execution_count": 14,
      "metadata": {}
    },
    {
      "cell_type": "markdown",
      "source": [
        "# 3. The most popular (with most ratings) movie by age group."
      ],
      "metadata": {}
    },
    {
      "cell_type": "code",
      "source": [
        "df_agg = movie.groupby(['age','movie_id','title'])['rating'].count().reset_index()"
      ],
      "outputs": [],
      "execution_count": 15,
      "metadata": {}
    },
    {
      "cell_type": "code",
      "source": [
        "df_sorted = df_agg.sort_values(['age', 'rating'], ascending=[True, False])"
      ],
      "outputs": [],
      "execution_count": 16,
      "metadata": {}
    },
    {
      "cell_type": "code",
      "source": [
        "movie_age = df_sorted.groupby('age').head(1)"
      ],
      "outputs": [],
      "execution_count": 17,
      "metadata": {
        "scrolled": true
      }
    }
  ],
  "metadata": {
    "kernelspec": {
      "name": "python3",
      "language": "python",
      "display_name": "Python 3"
    },
    "language_info": {
      "name": "python",
      "version": "3.6.5",
      "mimetype": "text/x-python",
      "codemirror_mode": {
        "name": "ipython",
        "version": 3
      },
      "pygments_lexer": "ipython3",
      "nbconvert_exporter": "python",
      "file_extension": ".py"
    },
    "kernel_info": {
      "name": "python3"
    },
    "nteract": {
      "version": "0.11.7"
    }
  },
  "nbformat": 4,
  "nbformat_minor": 2
}